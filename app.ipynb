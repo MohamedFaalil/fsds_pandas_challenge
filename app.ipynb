{
 "cells": [
  {
   "cell_type": "raw",
   "id": "07c7a7d6",
   "metadata": {},
   "source": [
    "Read all resumes from ineuron git and try to create a dataframe with `resume name`\n",
    "as index value, and  in column expecting `email id`, `linkedin id`, `git id`\n",
    "and skills as result"
   ]
  },
  {
   "cell_type": "markdown",
   "id": "a9dfbcba",
   "metadata": {},
   "source": [
    "### 1- importing modules"
   ]
  },
  {
   "cell_type": "code",
   "execution_count": null,
   "id": "b5af5bb5",
   "metadata": {},
   "outputs": [],
   "source": [
    "from helpers.utilities.folder_utility import FolderUtility\n",
    "from helpers.handlers.file_factory import FileFactory\n",
    "\n",
    "import os\n",
    "import pandas as pd"
   ]
  },
  {
   "cell_type": "code",
   "execution_count": null,
   "id": "aabd2e5f",
   "metadata": {},
   "outputs": [],
   "source": [
    "RESOURCE_FOLDER = 'storage/data_sets/i_resume/same-resume-year-wise-master'"
   ]
  },
  {
   "cell_type": "markdown",
   "id": "885d7b2e",
   "metadata": {},
   "source": [
    "### 2 - read all files name with in the resource folder"
   ]
  },
  {
   "cell_type": "code",
   "execution_count": null,
   "id": "8cb48c11",
   "metadata": {},
   "outputs": [],
   "source": [
    "resumes = FolderUtility.get_folder_content_list(RESOURCE_FOLDER)"
   ]
  },
  {
   "cell_type": "markdown",
   "id": "2953656f",
   "metadata": {},
   "source": [
    "### 3 - confirming files"
   ]
  },
  {
   "cell_type": "code",
   "execution_count": null,
   "id": "ce229469",
   "metadata": {},
   "outputs": [],
   "source": [
    "print(resumes)"
   ]
  },
  {
   "cell_type": "markdown",
   "id": "ff2a1553",
   "metadata": {},
   "source": [
    "### 4 - making list of dictionary with email, linkedin , git and skills & index name list"
   ]
  },
  {
   "cell_type": "code",
   "execution_count": null,
   "id": "243fb05d",
   "metadata": {},
   "outputs": [],
   "source": [
    "index_name = []\n",
    "grabbed_data_list = []\n",
    "for resume in resumes:\n",
    "    try:\n",
    "        FILE_RELATIVE_PATH = RESOURCE_FOLDER + '/' + resume\n",
    "        FILE_ABS_PATH = os.path.abspath(FILE_RELATIVE_PATH)\n",
    "        file = FileFactory.get_file(FILE_ABS_PATH)\n",
    "        grabbed_data_list.append({\n",
    "            'email': file.get_mail_address(),\n",
    "            'linkedin': file.get_linked_in_address(),\n",
    "            'git': file.get_git_repository_address(),\n",
    "            'skills': file.get_skills()\n",
    "        })\n",
    "        index_name.append(resume)\n",
    "    except Exception as ex:\n",
    "        continue"
   ]
  },
  {
   "cell_type": "markdown",
   "id": "230dff82",
   "metadata": {},
   "source": [
    "### 5 - confirming index list"
   ]
  },
  {
   "cell_type": "code",
   "execution_count": null,
   "id": "9b16ecc3",
   "metadata": {},
   "outputs": [],
   "source": [
    "print(index_name)"
   ]
  },
  {
   "cell_type": "markdown",
   "id": "fb204ccb",
   "metadata": {},
   "source": [
    "### 6 - confirming list of dictionary "
   ]
  },
  {
   "cell_type": "code",
   "execution_count": null,
   "id": "2260e58b",
   "metadata": {},
   "outputs": [],
   "source": [
    "grabbed_data_list"
   ]
  },
  {
   "cell_type": "markdown",
   "id": "49103418",
   "metadata": {},
   "source": [
    "### 7 - making dataframe"
   ]
  },
  {
   "cell_type": "code",
   "execution_count": null,
   "id": "d9b85775",
   "metadata": {},
   "outputs": [],
   "source": [
    "resumes = pd.DataFrame(grabbed_data_list,index=index_name)"
   ]
  },
  {
   "cell_type": "markdown",
   "id": "60bec5bc",
   "metadata": {},
   "source": [
    "### 8 - showing resumes dataframe"
   ]
  },
  {
   "cell_type": "code",
   "execution_count": null,
   "id": "3b920680",
   "metadata": {},
   "outputs": [],
   "source": [
    "resumes"
   ]
  },
  {
   "cell_type": "markdown",
   "id": "bc40a28d",
   "metadata": {},
   "source": [
    "### 9 - Confirming full view of a skill"
   ]
  },
  {
   "cell_type": "code",
   "execution_count": null,
   "id": "2a2596e3",
   "metadata": {},
   "outputs": [],
   "source": [
    "resumes.loc['12+ (2).docx','skills']"
   ]
  },
  {
   "cell_type": "code",
   "execution_count": null,
   "id": "fd6d7374",
   "metadata": {},
   "outputs": [],
   "source": []
  }
 ],
 "metadata": {
  "kernelspec": {
   "display_name": "Python 3 (ipykernel)",
   "language": "python",
   "name": "python3"
  },
  "language_info": {
   "codemirror_mode": {
    "name": "ipython",
    "version": 3
   },
   "file_extension": ".py",
   "mimetype": "text/x-python",
   "name": "python",
   "nbconvert_exporter": "python",
   "pygments_lexer": "ipython3",
   "version": "3.8.12"
  }
 },
 "nbformat": 4,
 "nbformat_minor": 5
}
