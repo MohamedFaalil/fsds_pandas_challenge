{
 "cells": [
  {
   "cell_type": "raw",
   "id": "0e278385",
   "metadata": {},
   "source": [
    "Read all resumes from ineuron git and try to create a dataframe with `resume name`\n",
    "as index value, and  in column expecting `email id`, `linkedin id`, `git id`\n",
    "and skills as result"
   ]
  },
  {
   "cell_type": "markdown",
   "id": "244b727c",
   "metadata": {},
   "source": [
    "### 1- importing modules"
   ]
  },
  {
   "cell_type": "code",
   "execution_count": 1,
   "id": "b5af5bb5",
   "metadata": {},
   "outputs": [],
   "source": [
    "from helpers.utilities.folder_utility import FolderUtility\n",
    "from helpers.handlers.file_factory import FileFactory\n",
    "\n",
    "import os\n",
    "import pandas as pd"
   ]
  },
  {
   "cell_type": "code",
   "execution_count": 2,
   "id": "aabd2e5f",
   "metadata": {},
   "outputs": [],
   "source": [
    "RESOURCE_FOLDER = 'storage/data_sets/i_resume/same-resume-year-wise-master'"
   ]
  },
  {
   "cell_type": "markdown",
   "id": "d1bb9798",
   "metadata": {},
   "source": [
    "### 2 - read all files name with in the resource folder"
   ]
  },
  {
   "cell_type": "code",
   "execution_count": 3,
   "id": "8cb48c11",
   "metadata": {},
   "outputs": [],
   "source": [
    "resumes = FolderUtility.get_folder_content_list(RESOURCE_FOLDER)"
   ]
  },
  {
   "cell_type": "markdown",
   "id": "f1ac3b17",
   "metadata": {},
   "source": [
    "### 3 - confirming files"
   ]
  },
  {
   "cell_type": "code",
   "execution_count": 4,
   "id": "37aedbdc",
   "metadata": {},
   "outputs": [
    {
     "name": "stdout",
     "output_type": "stream",
     "text": [
      "['12+ (2).docx', '12+.docx', '15+ (1).pdf', '15+.pdf', '20.pdf', '3+ (2).docx', '3+.docx', '3+.pdf', '4 .doc', '4+.docx', '5+ .pdf', '5+.pdf', '5.pdf', '6+.pdf', '7+.pdf', '8+.docx', '8+.pdf', 'freasher .pdf', 'freasher 1.rtf', 'mteh fresher.pdf', '~$3+ (2).docx']\n"
     ]
    }
   ],
   "source": [
    "print(resumes)"
   ]
  },
  {
   "cell_type": "markdown",
   "id": "057018e3",
   "metadata": {},
   "source": [
    "### 4 - making list of dictionary with email, linkedin , git and skills & index name list"
   ]
  },
  {
   "cell_type": "code",
   "execution_count": null,
   "id": "243fb05d",
   "metadata": {},
   "outputs": [],
   "source": [
    "index_name = []\n",
    "grabbed_data_list = []\n",
    "for resume in resumes:\n",
    "    try:\n",
    "        FILE_RELATIVE_PATH = RESOURCE_FOLDER + '/' + resume\n",
    "        FILE_ABS_PATH = os.path.abspath(FILE_RELATIVE_PATH)\n",
    "        file = FileFactory.get_file(FILE_ABS_PATH)\n",
    "        grabbed_data_list.append({\n",
    "            'email': file.get_mail_address(),\n",
    "            'linkedin': file.get_linked_in_address(),\n",
    "            'git': file.get_git_repository_address(),\n",
    "            'skills': file.get_skills()\n",
    "        })\n",
    "        index_name.append(resume)\n",
    "    except Exception as ex:\n",
    "        continue"
   ]
  },
  {
   "cell_type": "markdown",
   "id": "67c244eb",
   "metadata": {},
   "source": [
    "### 5 - confirming index list"
   ]
  },
  {
   "cell_type": "code",
   "execution_count": null,
   "id": "eb63cade",
   "metadata": {},
   "outputs": [],
   "source": [
    "print(index_name)"
   ]
  },
  {
   "cell_type": "markdown",
   "id": "32ae0be3",
   "metadata": {},
   "source": [
    "### 6 - confirming list of dictionary "
   ]
  },
  {
   "cell_type": "code",
   "execution_count": null,
   "id": "ee5d7de4",
   "metadata": {},
   "outputs": [],
   "source": [
    "grabbed_data_list"
   ]
  },
  {
   "cell_type": "markdown",
   "id": "b0366e5f",
   "metadata": {},
   "source": [
    "### 7 - making dataframe"
   ]
  },
  {
   "cell_type": "code",
   "execution_count": null,
   "id": "a8dec09e",
   "metadata": {},
   "outputs": [],
   "source": [
    "resumes = pd.DataFrame(grabbed_data_list,index=index_name)"
   ]
  },
  {
   "cell_type": "markdown",
   "id": "c90abf34",
   "metadata": {},
   "source": [
    "### 8 - showing resumes dataframe"
   ]
  },
  {
   "cell_type": "code",
   "execution_count": null,
   "id": "f89ceb4f",
   "metadata": {},
   "outputs": [],
   "source": [
    "resumes"
   ]
  }
 ],
 "metadata": {
  "kernelspec": {
   "display_name": "Python 3 (ipykernel)",
   "language": "python",
   "name": "python3"
  },
  "language_info": {
   "codemirror_mode": {
    "name": "ipython",
    "version": 3
   },
   "file_extension": ".py",
   "mimetype": "text/x-python",
   "name": "python",
   "nbconvert_exporter": "python",
   "pygments_lexer": "ipython3",
   "version": "3.8.12"
  }
 },
 "nbformat": 4,
 "nbformat_minor": 5
}
